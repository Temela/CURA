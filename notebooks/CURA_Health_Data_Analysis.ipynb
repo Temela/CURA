{
 "cells": [
  {
   "cell_type": "markdown",
   "id": "9e767a32",
   "metadata": {},
   "source": [
    "# CURA Project Analysis\n",
    "\n",
    "This notebook explores health and well-being trends of 45 elderly clergy using synthetic data, as part of the CURA system—a human-centered health monitoring solution."
   ]
  },
  {
   "cell_type": "code",
   "execution_count": null,
   "id": "75b831d2",
   "metadata": {},
   "outputs": [],
   "source": [
    "import pandas as pd\n",
    "import matplotlib.pyplot as plt\n",
    "import seaborn as sns\n",
    "import numpy as np\n",
    "\n",
    "# Configure visual style\n",
    "sns.set(style=\"whitegrid\")\n"
   ]
  },
  {
   "cell_type": "code",
   "execution_count": null,
   "id": "51b851b9",
   "metadata": {},
   "outputs": [],
   "source": [
    "# Load dataset\n",
    "df = pd.read_csv(\"cura_45_elderly_health_data.csv\")\n",
    "df[\"date\"] = pd.to_datetime(df[\"date\"])\n",
    "df.head()"
   ]
  },
  {
   "cell_type": "code",
   "execution_count": null,
   "id": "d563a782",
   "metadata": {},
   "outputs": [],
   "source": [
    "# Summary statistics\n",
    "df.describe(include='all')"
   ]
  },
  {
   "cell_type": "code",
   "execution_count": null,
   "id": "2b50b6b3",
   "metadata": {},
   "outputs": [],
   "source": [
    "plt.figure(figsize=(8, 6))\n",
    "sns.boxplot(data=df, x=\"mood\", y=\"heart_rate\", palette=\"Set2\")\n",
    "plt.title(\"Heart Rate by Mood\")\n",
    "plt.ylabel(\"Heart Rate (bpm)\")\n",
    "plt.xlabel(\"Mood\")\n",
    "plt.xticks(rotation=45)\n",
    "plt.tight_layout()\n",
    "plt.show()"
   ]
  },
  {
   "cell_type": "code",
   "execution_count": null,
   "id": "f9fa9e3f",
   "metadata": {},
   "outputs": [],
   "source": [
    "plt.figure(figsize=(8, 6))\n",
    "sns.violinplot(data=df, x=\"activity_level\", y=\"systolic_bp\", palette=\"Pastel1\")\n",
    "plt.title(\"Systolic BP by Activity Level\")\n",
    "plt.ylabel(\"Systolic Blood Pressure\")\n",
    "plt.xlabel(\"Activity Level\")\n",
    "plt.tight_layout()\n",
    "plt.show()"
   ]
  },
  {
   "cell_type": "code",
   "execution_count": null,
   "id": "c5c2de6b",
   "metadata": {},
   "outputs": [],
   "source": [
    "daily_avg = df.groupby(\"date\")[\"heart_rate\"].mean().reset_index()\n",
    "\n",
    "plt.figure(figsize=(10, 5))\n",
    "sns.lineplot(data=daily_avg, x=\"date\", y=\"heart_rate\", marker=\"o\", color=\"purple\")\n",
    "plt.title(\"Daily Average Heart Rate Over Time\")\n",
    "plt.ylabel(\"Heart Rate (bpm)\")\n",
    "plt.xlabel(\"Date\")\n",
    "plt.xticks(rotation=45)\n",
    "plt.tight_layout()\n",
    "plt.show()"
   ]
  }
 ],
 "metadata": {},
 "nbformat": 4,
 "nbformat_minor": 5
}